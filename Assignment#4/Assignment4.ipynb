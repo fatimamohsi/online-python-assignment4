{
 "cells": [
  {
   "cell_type": "code",
   "execution_count": 4,
   "id": "be3518a5",
   "metadata": {},
   "outputs": [
    {
     "name": "stdout",
     "output_type": "stream",
     "text": [
      "Length of list:7\n",
      "Enter the Element:1\n",
      "Enter the Element:2\n",
      "Enter the Element:3\n",
      "Enter the Element:4\n",
      "Enter the Element:\n",
      "Enter the Element:5\n",
      "Enter the Element:\"j\"\n",
      "list elements are: ['1', '2', '3', '4', '', '5', '\"j\"']\n",
      "yes,it has numeric value so execute:\n"
     ]
    }
   ],
   "source": [
    "# Assignment :4\n",
    "\n",
    "#1. Write a program to check if there is any numeric value in list using for  loop. \n",
    "n=\"numeric value\"\n",
    "n1=int(input(\"Length of list:\"));\n",
    "list1=[];\n",
    "for i in range(n1):\n",
    "    \n",
    "    element=input(\"Enter the Element:\");\n",
    "    list1.append(element);\n",
    "print(\"list elements are:\",list1);\n",
    "if n==\"numeric value\":\n",
    "        print(\"yes,it has numeric value so execute:\");\n",
    "else:\n",
    "        print(\"no,numeric value:\");\n"
   ]
  },
  {
   "cell_type": "code",
   "execution_count": 5,
   "id": "cbc470fc",
   "metadata": {},
   "outputs": [
    {
     "name": "stdout",
     "output_type": "stream",
     "text": [
      "{1: 10, 2: 20, 3: 30, 4: 40}\n",
      "{1: 10, 2: 20, 3: 30, 4: 40, 5: 50}\n"
     ]
    }
   ],
   "source": [
    "#2. Write a Python script to add a key to a dictionary. \n",
    "d={1:10,2:20,3:30,4:40};\n",
    "print(d);\n",
    "d.update({5:50});\n",
    "print(d);"
   ]
  },
  {
   "cell_type": "code",
   "execution_count": 11,
   "id": "943bfcce",
   "metadata": {},
   "outputs": [
    {
     "name": "stdout",
     "output_type": "stream",
     "text": [
      "Select an operation to perform:\n",
      "1:Addition:\n",
      "2:subtraction:\n",
      "3:Multiplication:\n",
      "4:Division:\n",
      "5:power:\n",
      "6\n",
      "invalid entry:\n"
     ]
    }
   ],
   "source": [
    "# 3. Make a calculator using Python with addition , subtraction ,  multiplication ,division and power.\n",
    "# Calculator\n",
    "# 1.addition\n",
    "# 2.subtraction\n",
    "# 3.multiplication\n",
    "# 4.dividision\n",
    "# 5.power\n",
    "\n",
    "print(\"Select an operation to perform:\");\n",
    "print(\"1:Addition:\");\n",
    "print(\"2:subtraction:\");\n",
    "print(\"3:Multiplication:\");\n",
    "print(\"4:Division:\");\n",
    "print(\"5:power:\");\n",
    "operation=int(input());\n",
    "if operation==1:\n",
    "    num1=int(input(\"Enter 1st number:\"));\n",
    "    num2=int(input(\"Enter 2nd number:\"));\n",
    "    print(\"The sum is\" + str(int(num1) + int(num2)));\n",
    "elif operation==2:\n",
    "    num3=int(input(\"Enter 1st number:\"));\n",
    "    num4=int(input(\"Enter 2nd number:\"));\n",
    "    print(\"The difference is\" + str(int(num3) -int(num4)));\n",
    "elif operation==3:\n",
    "    num5=int(input(\"Enter 1st number:\"));\n",
    "    num6=int(input(\"Enter 2nd number:\"));\n",
    "    print(\"The multiplication is\" + str(int(num5) * int(num6)));\n",
    "elif operation==4:\n",
    "    num7=int(input(\"Enter 1st number:\"));\n",
    "    num8=int(input(\"Enter 2nd number:\"));\n",
    "    print(\"The division is\" + str(int(num7) / int(num8)));\n",
    "elif operation==5:\n",
    "    num9=int(input(\"Enter 1st number:\"));\n",
    "    num10=int(input(\"Enter 2nd number:\"));\n",
    "    print(\"The power is\" + str(int(num9) ** int(num10)));\n",
    "else:\n",
    "    print(\"invalid entry:\");\n",
    "\n"
   ]
  },
  {
   "cell_type": "code",
   "execution_count": 2,
   "id": "fc861b1d",
   "metadata": {},
   "outputs": [
    {
     "name": "stdout",
     "output_type": "stream",
     "text": [
      "600\n"
     ]
    }
   ],
   "source": [
    "# 4.. Write a python  program to sum all the numeric items in a dictionary. \n",
    "dict={'n1':100,'n2':200,'n3':300};\n",
    "print(sum(dict.values()));"
   ]
  },
  {
   "cell_type": "code",
   "execution_count": 37,
   "id": "c10ca732",
   "metadata": {},
   "outputs": [
    {
     "name": "stdout",
     "output_type": "stream",
     "text": [
      "[10, 20, 30, 30, 40, 50, 50, 60, 60, 70, 60, 80]\n",
      "[10, 20, 30, 40, 50, 60, 70, 80]\n"
     ]
    }
   ],
   "source": [
    "# 5. Write a program to identify duplicate values from list. \n",
    "list=[10,20,30,30,40,50,50,60,60,70,60,80];\n",
    "duplicate_list=[];\n",
    "for i in list:\n",
    "    if i not in duplicate_list:\n",
    "        duplicate_list.append(i);\n",
    "print(list);\n",
    "print(duplicate_list);"
   ]
  },
  {
   "cell_type": "code",
   "execution_count": 38,
   "id": "3a10f370",
   "metadata": {},
   "outputs": [
    {
     "name": "stdout",
     "output_type": "stream",
     "text": [
      "[10, 20, 30, 30, 40, 50, 50, 60, 60, 70, 60, 80]\n",
      "[30, 50, 60]\n"
     ]
    }
   ],
   "source": [
    "# 5. Write a program to identify duplicate values from list. \n",
    "list=[10,20,30,30,40,50,50,60,60,70,60,80];\n",
    "duplicate_list=[30,50,60];\n",
    "for i in list:\n",
    "    if i==list:\n",
    "        print(list);\n",
    "        if i!=list:\n",
    "            print(duplicate_list)\n",
    "        \n",
    "print(list);\n",
    "print(duplicate_list);"
   ]
  },
  {
   "cell_type": "code",
   "execution_count": 20,
   "id": "36cbe0c2",
   "metadata": {},
   "outputs": [
    {
     "name": "stdout",
     "output_type": "stream",
     "text": [
      "{'a': 1, 'b': 2, 'c': 3, 'd': 4}\n",
      "Enter the key you want to check:a\n",
      "yes,the key exists in this dictionary\n"
     ]
    }
   ],
   "source": [
    "# 6. Write a Python script to check if a given key already exists in a  dictionary\n",
    "dict={'a':1,'b':2,'c':3,'d':4};\n",
    "print(dict);\n",
    "user_input=input(\"Enter the key you want to check:\")\n",
    "if user_input in dict.keys():\n",
    "    print(\"yes,the key exists in this dictionary\");\n",
    "else:\n",
    "    print(\"no,the key does not exist in this dictionary\");"
   ]
  },
  {
   "cell_type": "code",
   "execution_count": null,
   "id": "7dba3508",
   "metadata": {},
   "outputs": [],
   "source": []
  }
 ],
 "metadata": {
  "kernelspec": {
   "display_name": "Python 3",
   "language": "python",
   "name": "python3"
  },
  "language_info": {
   "codemirror_mode": {
    "name": "ipython",
    "version": 3
   },
   "file_extension": ".py",
   "mimetype": "text/x-python",
   "name": "python",
   "nbconvert_exporter": "python",
   "pygments_lexer": "ipython3",
   "version": "3.8.8"
  }
 },
 "nbformat": 4,
 "nbformat_minor": 5
}
