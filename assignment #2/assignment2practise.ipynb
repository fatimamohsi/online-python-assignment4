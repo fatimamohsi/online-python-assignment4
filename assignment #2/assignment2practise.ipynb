{
 "cells": [
  {
   "cell_type": "code",
   "execution_count": 32,
   "id": "a1a03ba9-1c21-49f1-b8f2-cefc93dcd820",
   "metadata": {},
   "outputs": [
    {
     "name": "stdin",
     "output_type": "stream",
     "text": [
      "Enter Roll No:  5\n",
      "Enter Name:  Fatima\n",
      "Enter Father's Name:  Mohsin\n",
      "Enter Gender:  Female\n",
      "Enter Standard:  12\n",
      "Enter Group: Science\n",
      "Enter English Marks:  89\n",
      "Enter Urdu Marks:  85\n",
      "Enter Islamiat Marks:  90\n",
      "Enter Pakistan Studies Marks:  81\n",
      "Enter Mathematics Marks:  100\n",
      "Enter Computer Marks:  92\n",
      "Enter Science Marks:  80\n"
     ]
    },
    {
     "name": "stdout",
     "output_type": "stream",
     "text": [
      "Obtained Marks\n",
      "percentage\n",
      "---------------------------STUDENT'S  MARKSHEET----------------------------------\n",
      "Your roll No is:5\n",
      "Your Name is:Fatima\n",
      "Your Father's Name is:Mohsin\n",
      "Your Gender is:Female\n",
      "Your Standard  is:12\n"
     ]
    },
    {
     "ename": "NameError",
     "evalue": "name 'totalmarks' is not defined",
     "output_type": "error",
     "traceback": [
      "\u001b[1;31m---------------------------------------------------------------------------\u001b[0m",
      "\u001b[1;31mNameError\u001b[0m                                 Traceback (most recent call last)",
      "\u001b[1;32m<ipython-input-32-4fc2bfd0ba38>\u001b[0m in \u001b[0;36m<module>\u001b[1;34m\u001b[0m\n\u001b[0;32m     22\u001b[0m \u001b[0mprint\u001b[0m\u001b[1;33m(\u001b[0m\u001b[1;34m\"Your Gender is:\"\u001b[0m \u001b[1;33m+\u001b[0m \u001b[0mgender\u001b[0m\u001b[1;33m)\u001b[0m\u001b[1;33m;\u001b[0m\u001b[1;33m\u001b[0m\u001b[1;33m\u001b[0m\u001b[0m\n\u001b[0;32m     23\u001b[0m \u001b[0mprint\u001b[0m\u001b[1;33m(\u001b[0m\u001b[1;34m\"Your Standard  is:\"\u001b[0m \u001b[1;33m+\u001b[0m \u001b[0mstr\u001b[0m\u001b[1;33m(\u001b[0m\u001b[0mstandard\u001b[0m\u001b[1;33m)\u001b[0m\u001b[1;33m)\u001b[0m\u001b[1;33m;\u001b[0m\u001b[1;33m\u001b[0m\u001b[1;33m\u001b[0m\u001b[0m\n\u001b[1;32m---> 24\u001b[1;33m \u001b[0mprint\u001b[0m\u001b[1;33m(\u001b[0m\u001b[1;34m\"Total Marks are:\"\u001b[0m \u001b[1;33m+\u001b[0m \u001b[0mstr\u001b[0m\u001b[1;33m(\u001b[0m\u001b[0mtotalmarks\u001b[0m\u001b[1;33m)\u001b[0m\u001b[1;33m)\u001b[0m\u001b[1;33m;\u001b[0m\u001b[1;33m\u001b[0m\u001b[1;33m\u001b[0m\u001b[0m\n\u001b[0m\u001b[0;32m     25\u001b[0m \u001b[0mprint\u001b[0m\u001b[1;33m(\u001b[0m\u001b[1;34m\"Your Obtained Marks are:\"\u001b[0m \u001b[1;33m+\u001b[0m \u001b[0mstr\u001b[0m\u001b[1;33m(\u001b[0m\u001b[0mobtainedmarks\u001b[0m\u001b[1;33m)\u001b[0m\u001b[1;33m)\u001b[0m\u001b[1;33m;\u001b[0m\u001b[1;33m\u001b[0m\u001b[1;33m\u001b[0m\u001b[0m\n\u001b[0;32m     26\u001b[0m \u001b[0mprint\u001b[0m\u001b[1;33m(\u001b[0m\u001b[1;34m\"Your Percentage is:\"\u001b[0m \u001b[1;33m+\u001b[0m \u001b[0mstr\u001b[0m\u001b[1;33m(\u001b[0m\u001b[0mpercentage\u001b[0m\u001b[1;33m)\u001b[0m\u001b[1;33m)\u001b[0m\u001b[1;33m;\u001b[0m\u001b[1;33m\u001b[0m\u001b[1;33m\u001b[0m\u001b[0m\n",
      "\u001b[1;31mNameError\u001b[0m: name 'totalmarks' is not defined"
     ]
    }
   ],
   "source": [
    "rollno=(int(input(\"Enter Roll No: \")));\n",
    "name = input(\"Enter Name: \");\n",
    "fathersname = input(\"Enter Father's Name: \");\n",
    "gender = input(\"Enter Gender: \");\n",
    "standard = int(input(\"Enter Standard: \"));\n",
    "group = input(\"Enter Group:\");\n",
    "english = int(input(\"Enter English Marks: \"));\n",
    "urdu= int(input(\"Enter Urdu Marks: \"));\n",
    "islamiat = int(input(\"Enter Islamiat Marks: \"));\n",
    "pakistanstudies = int(input(\"Enter Pakistan Studies Marks: \"));\n",
    "mathematics = int(input(\"Enter Mathematics Marks: \"));\n",
    "computer = int(input(\"Enter Computer Marks: \"));\n",
    "science = int(input(\"Enter Science Marks: \"));\n",
    "obtainedmarks = int(english + urdu + islamiat + pakistanstudies + mathematics + computer + science);\n",
    "percentage = obtainedmarks / 700 * 100;\n",
    "print(\"------------------------------------------  STUDENT'S  MARKSHEET   ---------------------------------------------------\");\n",
    "print(\"Your roll No is:\" + str(rollno));\n",
    "print(\"Your Name is:\" + name);\n",
    "print(\"Your Father's Name is:\" + fathersname);\n",
    "print(\"Your Gender is:\" + gender);\n",
    "print(\"Your Standard  is:\" + str(standard));\n",
    "print(\"Your Group is:\" + group);\n",
    "print(\"Total Marks are:\" + str(totalmarks));\n",
    "print(\"Your Obtained Marks are:\" + str(obtainedmarks));\n",
    "print(\"Your Percentage is:\" + str(percentage));"
   ]
  },
  {
   "cell_type": "code",
   "execution_count": null,
   "id": "76558b7e-b85d-4285-a55c-edfc3af2eb38",
   "metadata": {},
   "outputs": [],
   "source": []
  },
  {
   "cell_type": "code",
   "execution_count": null,
   "id": "b873f0fb-2b79-4764-87be-2435c6707cac",
   "metadata": {},
   "outputs": [],
   "source": []
  },
  {
   "cell_type": "code",
   "execution_count": null,
   "id": "1019ed06-3a7e-4f47-b3a9-acf8a2c6b4a9",
   "metadata": {},
   "outputs": [],
   "source": []
  },
  {
   "cell_type": "code",
   "execution_count": null,
   "id": "34f2ae40-7564-4685-a4c6-514f5bfbca32",
   "metadata": {},
   "outputs": [],
   "source": []
  },
  {
   "cell_type": "code",
   "execution_count": 28,
   "id": "dd8fd6b7-69ba-420f-ac88-6f944ff77d4c",
   "metadata": {},
   "outputs": [
    {
     "data": {
      "text/plain": [
       "3"
      ]
     },
     "execution_count": 28,
     "metadata": {},
     "output_type": "execute_result"
    }
   ],
   "source": [
    "3"
   ]
  },
  {
   "cell_type": "code",
   "execution_count": 29,
   "id": "34ab3ec8-8012-45a6-97fb-e40cb3eb33eb",
   "metadata": {},
   "outputs": [
    {
     "ename": "NameError",
     "evalue": "name 'Fatima' is not defined",
     "output_type": "error",
     "traceback": [
      "\u001b[1;31m---------------------------------------------------------------------------\u001b[0m",
      "\u001b[1;31mNameError\u001b[0m                                 Traceback (most recent call last)",
      "\u001b[1;32m<ipython-input-29-23c529e382fd>\u001b[0m in \u001b[0;36m<module>\u001b[1;34m\u001b[0m\n\u001b[1;32m----> 1\u001b[1;33m \u001b[0mFatima\u001b[0m\u001b[1;33m\u001b[0m\u001b[1;33m\u001b[0m\u001b[0m\n\u001b[0m",
      "\u001b[1;31mNameError\u001b[0m: name 'Fatima' is not defined"
     ]
    }
   ],
   "source": [
    "Fatima"
   ]
  },
  {
   "cell_type": "code",
   "execution_count": 30,
   "id": "87e30886-4638-40dc-b87b-f9b54a4dd727",
   "metadata": {},
   "outputs": [
    {
     "ename": "NameError",
     "evalue": "name 'Mohsin' is not defined",
     "output_type": "error",
     "traceback": [
      "\u001b[1;31m---------------------------------------------------------------------------\u001b[0m",
      "\u001b[1;31mNameError\u001b[0m                                 Traceback (most recent call last)",
      "\u001b[1;32m<ipython-input-30-11b87a252ee9>\u001b[0m in \u001b[0;36m<module>\u001b[1;34m\u001b[0m\n\u001b[1;32m----> 1\u001b[1;33m \u001b[0mMohsin\u001b[0m\u001b[1;33m\u001b[0m\u001b[1;33m\u001b[0m\u001b[0m\n\u001b[0m",
      "\u001b[1;31mNameError\u001b[0m: name 'Mohsin' is not defined"
     ]
    }
   ],
   "source": [
    "Mohsin"
   ]
  },
  {
   "cell_type": "code",
   "execution_count": 18,
   "id": "ee29a797-ad82-4341-b4c7-616aeeb97b93",
   "metadata": {},
   "outputs": [
    {
     "ename": "NameError",
     "evalue": "name 'female' is not defined",
     "output_type": "error",
     "traceback": [
      "\u001b[1;31m---------------------------------------------------------------------------\u001b[0m",
      "\u001b[1;31mNameError\u001b[0m                                 Traceback (most recent call last)",
      "\u001b[1;32m<ipython-input-18-1397294843d4>\u001b[0m in \u001b[0;36m<module>\u001b[1;34m\u001b[0m\n\u001b[1;32m----> 1\u001b[1;33m \u001b[0mfemale\u001b[0m\u001b[1;33m\u001b[0m\u001b[1;33m\u001b[0m\u001b[0m\n\u001b[0m",
      "\u001b[1;31mNameError\u001b[0m: name 'female' is not defined"
     ]
    }
   ],
   "source": [
    "female"
   ]
  },
  {
   "cell_type": "code",
   "execution_count": 19,
   "id": "e7aa882c-f229-40b4-b426-83d09d61608e",
   "metadata": {},
   "outputs": [
    {
     "data": {
      "text/plain": [
       "12"
      ]
     },
     "execution_count": 19,
     "metadata": {},
     "output_type": "execute_result"
    }
   ],
   "source": [
    "12"
   ]
  },
  {
   "cell_type": "code",
   "execution_count": null,
   "id": "3da587bd-34ad-4d79-8317-57ea0f34a87c",
   "metadata": {},
   "outputs": [],
   "source": []
  },
  {
   "cell_type": "code",
   "execution_count": 20,
   "id": "d5b8a79d-3900-4cb6-81e5-7df24a2834a3",
   "metadata": {},
   "outputs": [
    {
     "data": {
      "text/plain": [
       "89"
      ]
     },
     "execution_count": 20,
     "metadata": {},
     "output_type": "execute_result"
    }
   ],
   "source": [
    "89"
   ]
  },
  {
   "cell_type": "code",
   "execution_count": 21,
   "id": "08df496d-f8c9-471c-bf2c-c0da91aaf64f",
   "metadata": {},
   "outputs": [
    {
     "data": {
      "text/plain": [
       "99"
      ]
     },
     "execution_count": 21,
     "metadata": {},
     "output_type": "execute_result"
    }
   ],
   "source": [
    "99"
   ]
  },
  {
   "cell_type": "code",
   "execution_count": 22,
   "id": "3edf5085-73b5-407b-8363-2c180110a95d",
   "metadata": {},
   "outputs": [
    {
     "data": {
      "text/plain": [
       "97"
      ]
     },
     "execution_count": 22,
     "metadata": {},
     "output_type": "execute_result"
    }
   ],
   "source": [
    "97"
   ]
  },
  {
   "cell_type": "code",
   "execution_count": 23,
   "id": "2171b95f-d5d7-4fea-95d8-eb57551903a4",
   "metadata": {},
   "outputs": [
    {
     "data": {
      "text/plain": [
       "90"
      ]
     },
     "execution_count": 23,
     "metadata": {},
     "output_type": "execute_result"
    }
   ],
   "source": [
    "90"
   ]
  },
  {
   "cell_type": "code",
   "execution_count": 24,
   "id": "b3b45ae4-5412-4647-a1b4-e8f639c57872",
   "metadata": {},
   "outputs": [
    {
     "data": {
      "text/plain": [
       "84"
      ]
     },
     "execution_count": 24,
     "metadata": {},
     "output_type": "execute_result"
    }
   ],
   "source": [
    "84"
   ]
  },
  {
   "cell_type": "code",
   "execution_count": 25,
   "id": "06227b4a-1566-4731-9f43-ee0c95a7554a",
   "metadata": {},
   "outputs": [
    {
     "data": {
      "text/plain": [
       "87"
      ]
     },
     "execution_count": 25,
     "metadata": {},
     "output_type": "execute_result"
    }
   ],
   "source": [
    "87"
   ]
  },
  {
   "cell_type": "code",
   "execution_count": 26,
   "id": "abae5e4e-bf47-4c5e-b704-a9714620c6aa",
   "metadata": {},
   "outputs": [
    {
     "data": {
      "text/plain": [
       "85"
      ]
     },
     "execution_count": 26,
     "metadata": {},
     "output_type": "execute_result"
    }
   ],
   "source": [
    "85"
   ]
  },
  {
   "cell_type": "code",
   "execution_count": null,
   "id": "0339821a-102a-49e5-ac06-52fa40ef7eda",
   "metadata": {},
   "outputs": [],
   "source": []
  },
  {
   "cell_type": "code",
   "execution_count": null,
   "id": "34124219-d0ff-4f89-9d8d-31ac8083b20f",
   "metadata": {},
   "outputs": [],
   "source": []
  },
  {
   "cell_type": "code",
   "execution_count": null,
   "id": "64fc609d-abab-4d48-b9b9-6426ab7ead5f",
   "metadata": {},
   "outputs": [],
   "source": []
  },
  {
   "cell_type": "code",
   "execution_count": null,
   "id": "98c0bd40-f7f1-4b33-9d55-333298892e1b",
   "metadata": {},
   "outputs": [],
   "source": []
  }
 ],
 "metadata": {
  "kernelspec": {
   "display_name": "Python 3",
   "language": "python",
   "name": "python3"
  },
  "language_info": {
   "codemirror_mode": {
    "name": "ipython",
    "version": 3
   },
   "file_extension": ".py",
   "mimetype": "text/x-python",
   "name": "python",
   "nbconvert_exporter": "python",
   "pygments_lexer": "ipython3",
   "version": "3.8.8"
  }
 },
 "nbformat": 4,
 "nbformat_minor": 5
}
