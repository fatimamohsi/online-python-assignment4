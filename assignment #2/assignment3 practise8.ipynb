{
 "cells": [
  {
   "cell_type": "code",
   "execution_count": 4,
   "id": "c98110eb-ded5-4986-9407-fd6005122314",
   "metadata": {},
   "outputs": [
    {
     "name": "stdout",
     "output_type": "stream",
     "text": [
      "Twinkle, twinkle, little star,\n",
      "How I wonder what you are!\n",
      "Up above the world so high,\n",
      "Like a diamond in the sky.\n",
      "Twinkle, twinkle, little star,\n",
      "How I wonder what you are\n"
     ]
    }
   ],
   "source": [
    "# --------------------------------------------------------     ASSIGNMENT    NO:3    -------------------------------------------------------------------------\n",
    "# 1. Write a Python program to print the following string in a specific format (see the output.)\n",
    "print(\"Twinkle, twinkle, little star,\");\n",
    "print(\"How I wonder what you are!\");\n",
    "print(\"Up above the world so high,\");\n",
    "print(\"Like a diamond in the sky.\");\n",
    "print(\"Twinkle, twinkle, little star,\");\n",
    "print(\"How I wonder what you are\");"
   ]
  },
  {
   "cell_type": "code",
   "execution_count": 10,
   "id": "ab39297d-f3df-4c5c-b1e9-5daa87b6c9e0",
   "metadata": {},
   "outputs": [
    {
     "name": "stdout",
     "output_type": "stream",
     "text": [
      "3.8.8\n"
     ]
    }
   ],
   "source": [
    "# 2. Write a Python program to get the Python version you are using.\n",
    "from platform import python_version ;\n",
    "print(python_version());"
   ]
  },
  {
   "cell_type": "code",
   "execution_count": 14,
   "id": "c10cd6f1-b823-4981-afa4-0e1852f7c8fc",
   "metadata": {},
   "outputs": [
    {
     "name": "stdout",
     "output_type": "stream",
     "text": [
      "2021-10-22 20:17:53.687620\n"
     ]
    }
   ],
   "source": [
    "# 3. Write a Python program to display the current date and time.\n",
    "import datetime;\n",
    "today=datetime.datetime.today();\n",
    "print(today);"
   ]
  },
  {
   "cell_type": "code",
   "execution_count": 15,
   "id": "6736fa54-0e09-4fb2-923c-f48e7b489949",
   "metadata": {},
   "outputs": [
    {
     "name": "stdin",
     "output_type": "stream",
     "text": [
      "Enter the Radius of the Circle: 4\n"
     ]
    },
    {
     "name": "stdout",
     "output_type": "stream",
     "text": [
      "Area of the Circle is: 50.26548245743669\n"
     ]
    }
   ],
   "source": [
    "# 4. Write a Python program which accepts the radius of a circle from the user and compute the area.\n",
    "import math;\n",
    "radius = float(input(\"Enter the Radius of the Circle:\"));\n",
    "area = math.pi * radius * radius;\n",
    "print(\"Area of the Circle is: {0}\". format(area));"
   ]
  },
  {
   "cell_type": "code",
   "execution_count": 18,
   "id": "f7a71884-0ceb-4fbf-b895-445f642bc45f",
   "metadata": {},
   "outputs": [
    {
     "name": "stdin",
     "output_type": "stream",
     "text": [
      "Enter your first name : Hafiza Fatima\n",
      "Enter your last name : Mohsin Badar\n"
     ]
    },
    {
     "name": "stdout",
     "output_type": "stream",
     "text": [
      "Mohsin Badar Hafiza Fatima\n"
     ]
    }
   ],
   "source": [
    "# 5. Write a Python program which accepts the user's first and last name and print them in reverse order with a space between them.\n",
    "firstname = input(\"Enter your first name :\");\n",
    "lastname = input(\"Enter your last name :\");\n",
    "print (lastname + \" \" + firstname);"
   ]
  },
  {
   "cell_type": "code",
   "execution_count": 19,
   "id": "0830241e-e2ad-4abf-9740-b0795c91d3e1",
   "metadata": {},
   "outputs": [
    {
     "name": "stdin",
     "output_type": "stream",
     "text": [
      "Enter the 1st no : 12\n",
      "Enter the 2nd no : 22\n"
     ]
    },
    {
     "name": "stdout",
     "output_type": "stream",
     "text": [
      "34\n"
     ]
    }
   ],
   "source": [
    "# 6. Write a python program which takes two inputs from user and print them addition.\n",
    "x = int(input(\"Enter the 1st no :\"));\n",
    "y = int(input(\"Enter the 2nd no :\"));\n",
    "print(x + y);"
   ]
  },
  {
   "cell_type": "code",
   "execution_count": 29,
   "id": "91f1a57e-b34e-4770-b04c-73cec89f1d0a",
   "metadata": {},
   "outputs": [
    {
     "name": "stdout",
     "output_type": "stream",
     "text": [
      "Enter marks of the first subject: 90\n",
      "Enter marks of the second subject: 99\n",
      "Enter marks of the third subject: 98\n",
      "Enter marks of the forth subject: 89\n",
      "Enter marks of the fifth subject: 88\n",
      "Grade: A\n"
     ]
    }
   ],
   "source": [
    "#  7. Write a program which takes 5 inputs from user for different subject’s marks, total it and generate mark sheet using grades.\n",
    "sub1 = int(input(\"Enter marks of the first subject: \"));\n",
    "sub2 = int(input(\"Enter marks of the second subject: \"));\n",
    "sub3 = int(input(\"Enter marks of the third subject: \"));\n",
    "sub4 = int(input(\"Enter marks of the forth subject: \"));\n",
    "sub5 = int(input(\"Enter marks of the fifth subject: \"));\n",
    "sum=(sub1+sub2+sub3+sub4+sub4);\n",
    "avg = sum/5 * 100\n",
    "if  \"avg >== 90\" :\n",
    "    print(\"Grade: A\");\n",
    "elif avg>=75:\n",
    "    print(\"Grade: B\");\n",
    "elif(avg>=70 & avg<80):\n",
    "    print(\"Grade: C\");\n",
    "elif(avg>=60 & avg<70):\n",
    "    print(\"Grade: D\");\n",
    "else:\n",
    "    print(\"Grade: F\");\n",
    "\n",
    "\n"
   ]
  },
  {
   "cell_type": "code",
   "execution_count": 14,
   "id": "d179c4e4-3563-4434-a612-192ff65ce74e",
   "metadata": {},
   "outputs": [
    {
     "name": "stdout",
     "output_type": "stream",
     "text": [
      "Enter an integer: , n 12\n",
      "12 n is an even number\n"
     ]
    }
   ],
   "source": [
    "# 8. Write a program which take input from user and identify that the given number is even or odd.\n",
    "n=int(input(\"Enter an integer: , n \"));\n",
    "if (n%2==0 ):\n",
    "    print(n , \"n is an even number\");\n",
    "else:\n",
    "    print(n , \"n is an odd number\");"
   ]
  },
  {
   "cell_type": "code",
   "execution_count": 23,
   "id": "6849e56f-fcb0-4cf0-8990-19178a9ebb3f",
   "metadata": {},
   "outputs": [
    {
     "name": "stdout",
     "output_type": "stream",
     "text": [
      "7\n"
     ]
    }
   ],
   "source": [
    "# 9. Write a program which print the length of the list.\n",
    "mylist = [1, 2, 3, 4, 5, 6, 7];\n",
    "print(len(mylist));"
   ]
  },
  {
   "cell_type": "code",
   "execution_count": 49,
   "id": "579040db",
   "metadata": {},
   "outputs": [
    {
     "ename": "TypeError",
     "evalue": "'int' object is not callable",
     "output_type": "error",
     "traceback": [
      "\u001b[1;31m---------------------------------------------------------------------------\u001b[0m",
      "\u001b[1;31mTypeError\u001b[0m                                 Traceback (most recent call last)",
      "\u001b[1;32m<ipython-input-49-78a6e0af790b>\u001b[0m in \u001b[0;36m<module>\u001b[1;34m\u001b[0m\n\u001b[0;32m      1\u001b[0m \u001b[1;31m# 10. Write a Python program to sum all the numeric items in a list.\u001b[0m\u001b[1;33m\u001b[0m\u001b[1;33m\u001b[0m\u001b[1;33m\u001b[0m\u001b[0m\n\u001b[0;32m      2\u001b[0m \u001b[0mmylist\u001b[0m\u001b[1;33m=\u001b[0m\u001b[1;33m[\u001b[0m\u001b[1;36m2\u001b[0m\u001b[1;33m,\u001b[0m \u001b[1;36m4\u001b[0m\u001b[1;33m,\u001b[0m \u001b[1;36m5\u001b[0m\u001b[1;33m,\u001b[0m \u001b[1;36m6\u001b[0m\u001b[1;33m,\u001b[0m \u001b[1;36m7\u001b[0m\u001b[1;33m,\u001b[0m \u001b[1;36m9\u001b[0m\u001b[1;33m,\u001b[0m \u001b[1;36m0\u001b[0m\u001b[1;33m]\u001b[0m\u001b[1;33m;\u001b[0m\u001b[1;33m\u001b[0m\u001b[1;33m\u001b[0m\u001b[0m\n\u001b[1;32m----> 3\u001b[1;33m \u001b[0mtotal\u001b[0m \u001b[1;33m=\u001b[0m \u001b[0msum\u001b[0m\u001b[1;33m(\u001b[0m\u001b[0mmylist\u001b[0m\u001b[1;33m)\u001b[0m\u001b[1;33m;\u001b[0m\u001b[1;33m\u001b[0m\u001b[1;33m\u001b[0m\u001b[0m\n\u001b[0m\u001b[0;32m      4\u001b[0m \u001b[0mprint\u001b[0m\u001b[1;33m(\u001b[0m\u001b[1;34m\"sum of all elements in given list:\"\u001b[0m\u001b[1;33m,\u001b[0m\u001b[0mtotal\u001b[0m\u001b[1;33m)\u001b[0m\u001b[1;33m;\u001b[0m\u001b[1;33m\u001b[0m\u001b[1;33m\u001b[0m\u001b[0m\n",
      "\u001b[1;31mTypeError\u001b[0m: 'int' object is not callable"
     ]
    }
   ],
   "source": [
    "# 10. Write a Python program to sum all the numeric items in a list.\n",
    "mylist=[2, 4, 5, 6, 7, 9, 0];\n",
    "total = sum(mylist);\n",
    "print(\"sum of all elements in given list:\",total);"
   ]
  },
  {
   "cell_type": "code",
   "execution_count": 50,
   "id": "783e1a23",
   "metadata": {},
   "outputs": [
    {
     "ename": "TypeError",
     "evalue": "'int' object is not callable",
     "output_type": "error",
     "traceback": [
      "\u001b[1;31m---------------------------------------------------------------------------\u001b[0m",
      "\u001b[1;31mTypeError\u001b[0m                                 Traceback (most recent call last)",
      "\u001b[1;32m<ipython-input-50-f6981685ce67>\u001b[0m in \u001b[0;36m<module>\u001b[1;34m\u001b[0m\n\u001b[0;32m      1\u001b[0m \u001b[1;31m# 10. Write a Python program to sum all the numeric items in a list.\u001b[0m\u001b[1;33m\u001b[0m\u001b[1;33m\u001b[0m\u001b[1;33m\u001b[0m\u001b[0m\n\u001b[0;32m      2\u001b[0m \u001b[0mmylist\u001b[0m\u001b[1;33m=\u001b[0m\u001b[1;33m[\u001b[0m\u001b[1;36m2\u001b[0m\u001b[1;33m,\u001b[0m \u001b[1;36m4\u001b[0m\u001b[1;33m,\u001b[0m \u001b[1;36m5\u001b[0m\u001b[1;33m,\u001b[0m \u001b[1;36m6\u001b[0m\u001b[1;33m,\u001b[0m \u001b[1;36m7\u001b[0m\u001b[1;33m,\u001b[0m \u001b[1;36m9\u001b[0m\u001b[1;33m,\u001b[0m \u001b[1;36m0\u001b[0m\u001b[1;33m]\u001b[0m\u001b[1;33m;\u001b[0m\u001b[1;33m\u001b[0m\u001b[1;33m\u001b[0m\u001b[0m\n\u001b[1;32m----> 3\u001b[1;33m \u001b[0msum\u001b[0m\u001b[1;33m(\u001b[0m\u001b[0mmylist\u001b[0m\u001b[1;33m)\u001b[0m\u001b[1;33m;\u001b[0m\u001b[1;33m\u001b[0m\u001b[1;33m\u001b[0m\u001b[0m\n\u001b[0m\u001b[0;32m      4\u001b[0m \u001b[0mprint\u001b[0m\u001b[1;33m(\u001b[0m\u001b[1;34m\"sum of all elements in given list:\"\u001b[0m\u001b[1;33m,\u001b[0m\u001b[0mtotal\u001b[0m\u001b[1;33m)\u001b[0m\u001b[1;33m;\u001b[0m\u001b[1;33m\u001b[0m\u001b[1;33m\u001b[0m\u001b[0m\n",
      "\u001b[1;31mTypeError\u001b[0m: 'int' object is not callable"
     ]
    }
   ],
   "source": [
    "# 10. Write a Python program to sum all the numeric items in a list.\n",
    "mylist=[2, 4, 5, 6, 7, 9, 0];\n",
    "sum(mylist);\n",
    "print(\"sum of all elements in given list:\",total);"
   ]
  },
  {
   "cell_type": "code",
   "execution_count": 56,
   "id": "826f34bd",
   "metadata": {},
   "outputs": [
    {
     "ename": "TypeError",
     "evalue": "'int' object is not callable",
     "output_type": "error",
     "traceback": [
      "\u001b[1;31m---------------------------------------------------------------------------\u001b[0m",
      "\u001b[1;31mTypeError\u001b[0m                                 Traceback (most recent call last)",
      "\u001b[1;32m<ipython-input-56-40cfaddd51b1>\u001b[0m in \u001b[0;36m<module>\u001b[1;34m\u001b[0m\n\u001b[0;32m      1\u001b[0m \u001b[1;31m# 10. Write a Python program to sum all the numeric items in a list.\u001b[0m\u001b[1;33m\u001b[0m\u001b[1;33m\u001b[0m\u001b[1;33m\u001b[0m\u001b[0m\n\u001b[0;32m      2\u001b[0m \u001b[0mmylist\u001b[0m\u001b[1;33m=\u001b[0m\u001b[1;33m[\u001b[0m\u001b[1;36m2\u001b[0m\u001b[1;33m,\u001b[0m \u001b[1;36m4\u001b[0m\u001b[1;33m,\u001b[0m \u001b[1;36m5\u001b[0m\u001b[1;33m,\u001b[0m \u001b[1;36m6\u001b[0m\u001b[1;33m,\u001b[0m \u001b[1;36m7\u001b[0m\u001b[1;33m,\u001b[0m \u001b[1;36m9\u001b[0m\u001b[1;33m,\u001b[0m \u001b[1;36m0\u001b[0m\u001b[1;33m]\u001b[0m\u001b[1;33m;\u001b[0m\u001b[1;33m\u001b[0m\u001b[1;33m\u001b[0m\u001b[0m\n\u001b[1;32m----> 3\u001b[1;33m \u001b[0mmylisttotal\u001b[0m\u001b[1;33m=\u001b[0m\u001b[0msum\u001b[0m\u001b[1;33m(\u001b[0m\u001b[0mmylist\u001b[0m\u001b[1;33m)\u001b[0m\u001b[1;33m;\u001b[0m\u001b[1;33m\u001b[0m\u001b[1;33m\u001b[0m\u001b[0m\n\u001b[0m\u001b[0;32m      4\u001b[0m \u001b[0mprint\u001b[0m\u001b[1;33m(\u001b[0m\u001b[1;34m\"sum of all elements in given list:\"\u001b[0m\u001b[1;33m,\u001b[0m\u001b[0mtotal\u001b[0m\u001b[1;33m)\u001b[0m\u001b[1;33m;\u001b[0m\u001b[1;33m\u001b[0m\u001b[1;33m\u001b[0m\u001b[0m\n",
      "\u001b[1;31mTypeError\u001b[0m: 'int' object is not callable"
     ]
    }
   ],
   "source": [
    "# 10. Write a Python program to sum all the numeric items in a list.\n",
    "mylist=[2, 4, 5, 6, 7, 9, 0];\n",
    "mylisttotal=sum(mylist);\n",
    "print(\"sum of all elements in given list:\",total);"
   ]
  },
  {
   "cell_type": "code",
   "execution_count": 57,
   "id": "09f1c270",
   "metadata": {},
   "outputs": [
    {
     "name": "stdout",
     "output_type": "stream",
     "text": [
      "[7, 8, 9, 7, 6, 5, 11, 0, 2]\n",
      "largest numberis: 11\n"
     ]
    }
   ],
   "source": [
    "# 11. Write a Python program to get the largest number from a numeric list.\n",
    "mylist = [7, 8, 9, 7, 6, 5, 11, 0, 2];\n",
    "print(mylist);\n",
    "print(\"largest numberis:\",max(mylist));"
   ]
  },
  {
   "cell_type": "code",
   "execution_count": 58,
   "id": "3d92fc9e",
   "metadata": {},
   "outputs": [
    {
     "name": "stdout",
     "output_type": "stream",
     "text": [
      "[1, 1, 2, 3, 5, 8, 13, 21, 34, 55, 89]\n",
      "[1, 1, 2, 3]\n"
     ]
    }
   ],
   "source": [
    "# 12. Take a list, say for example this one:a = [1, 1, 2, 3, 5, 8, 13, 21, 34, 55, 89] Write a program that prints out all the elements of the list that are less than 5.\n",
    "a = [1, 1, 2, 3, 5, 8, 13, 21, 34, 55, 89];\n",
    "print(a);\n",
    "newlist = [x for x in a if x < 5];\n",
    "print(newlist);"
   ]
  },
  {
   "cell_type": "code",
   "execution_count": null,
   "id": "3c0963e5",
   "metadata": {},
   "outputs": [],
   "source": []
  }
 ],
 "metadata": {
  "kernelspec": {
   "display_name": "Python 3",
   "language": "python",
   "name": "python3"
  },
  "language_info": {
   "codemirror_mode": {
    "name": "ipython",
    "version": 3
   },
   "file_extension": ".py",
   "mimetype": "text/x-python",
   "name": "python",
   "nbconvert_exporter": "python",
   "pygments_lexer": "ipython3",
   "version": "3.8.8"
  }
 },
 "nbformat": 4,
 "nbformat_minor": 5
}
