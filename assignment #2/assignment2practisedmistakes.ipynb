{
 "cells": [
  {
   "cell_type": "code",
   "execution_count": 1,
   "id": "ed7504cb",
   "metadata": {},
   "outputs": [
    {
     "name": "stdout",
     "output_type": "stream",
     "text": [
      "Enter Roll No: 1\n",
      "Enter Name: sana\n",
      "Enter Father's Name: ali\n",
      "Enter Gender: male\n",
      "Enter Standard: 11\n",
      "Enter Group:general\n",
      "Enter English Marks: 33\n",
      "Enter Urdu Marks: 45\n",
      "Enter Islamiat Marks: 67\n",
      "Enter Pakistan Studies Marks: 89\n",
      "Enter Mathematics Marks: 90\n",
      "Enter Computer Marks: 12\n",
      "Enter Science Marks: 55\n",
      " ------------------------------------------   STUDENT'S  MARKSHEET ---------------------------------------------------\n",
      "Your roll No is:1\n",
      "Your Name is:sana\n",
      "Your Father's Name is:ali\n",
      "Your Gender is:male\n",
      "Your Standard  is:11\n",
      "Your Group is:general\n",
      "Your Percent is:55.85714285714286\n"
     ]
    }
   ],
   "source": [
    "rollno=(int(input(\"Enter Roll No: \")));\n",
    "name = input(\"Enter Name: \");\n",
    "fathersname = input(\"Enter Father's Name: \");\n",
    "gender = input(\"Enter Gender: \");\n",
    "standard = int(input(\"Enter Standard: \"));\n",
    "group = input(\"Enter Group:\");\n",
    "english = int(input(\"Enter English Marks: \"));\n",
    "urdu= int(input(\"Enter Urdu Marks: \"));\n",
    "islamiat = int(input(\"Enter Islamiat Marks: \"));\n",
    "pakistanstudies = int(input(\"Enter Pakistan Studies Marks: \"));\n",
    "mathematics = int(input(\"Enter Mathematics Marks: \"));\n",
    "computer = int(input(\"Enter Computer Marks: \"));\n",
    "science = int(input(\"Enter Science Marks: \"));\n",
    "percent= int(english + urdu + islamiat + pakistanstudies + mathematics + computer + science)/700*100\n",
    "print(\" ------------------------------------------   STUDENT'S  MARKSHEET ---------------------------------------------------\");\n",
    "print(\"Your roll No is:\" + str(rollno));\n",
    "print(\"Your Name is:\" + name);\n",
    "print(\"Your Father's Name is:\" + fathersname);\n",
    "print(\"Your Gender is:\" + gender);\n",
    "print(\"Your Standard  is:\" + str(standard));\n",
    "print(\"Your Group is:\" + group);\n",
    "print(\"Your Percent is:\" + str(percent));"
   ]
  },
  {
   "cell_type": "code",
   "execution_count": 3,
   "id": "c31e6fc7",
   "metadata": {},
   "outputs": [
    {
     "ename": "SyntaxError",
     "evalue": "invalid syntax (<ipython-input-3-4d601c91e51c>, line 15)",
     "output_type": "error",
     "traceback": [
      "\u001b[1;36m  File \u001b[1;32m\"<ipython-input-3-4d601c91e51c>\"\u001b[1;36m, line \u001b[1;32m15\u001b[0m\n\u001b[1;33m    percent< 0 and percent >100:\u001b[0m\n\u001b[1;37m                                ^\u001b[0m\n\u001b[1;31mSyntaxError\u001b[0m\u001b[1;31m:\u001b[0m invalid syntax\n"
     ]
    }
   ],
   "source": [
    "if percent <100 and percent >= 80:\n",
    "    print(\"Grade:A1\");\n",
    "elif percent< 80 and percent >=70:\n",
    "    print(\"A\");\n",
    "elif percent< 70 and percent >=60:\n",
    "    print(\"B\");\n",
    "elif percent< 60 and percent >=50:\n",
    "    print(\"C\");\n",
    "elif percent< 50 and percent >=40:\n",
    "    print(\"D\");\n",
    "elif percent< 40 and percent >=33:\n",
    "    print(\"E\");\n",
    "else:\n",
    "    print(\"F\");\n",
    "    percent< 0 and percent >100:\n",
    "    print(\"You did not Enter a Valid Percent\");\n",
    "else:\n",
    "    print(\"Fail\");"
   ]
  },
  {
   "cell_type": "code",
   "execution_count": null,
   "id": "4d09ffb8",
   "metadata": {},
   "outputs": [],
   "source": []
  },
  {
   "cell_type": "code",
   "execution_count": null,
   "id": "bd62b557",
   "metadata": {},
   "outputs": [],
   "source": []
  },
  {
   "cell_type": "code",
   "execution_count": null,
   "id": "c108d036",
   "metadata": {},
   "outputs": [],
   "source": []
  }
 ],
 "metadata": {
  "kernelspec": {
   "display_name": "Python 3",
   "language": "python",
   "name": "python3"
  },
  "language_info": {
   "codemirror_mode": {
    "name": "ipython",
    "version": 3
   },
   "file_extension": ".py",
   "mimetype": "text/x-python",
   "name": "python",
   "nbconvert_exporter": "python",
   "pygments_lexer": "ipython3",
   "version": "3.8.8"
  }
 },
 "nbformat": 4,
 "nbformat_minor": 5
}
