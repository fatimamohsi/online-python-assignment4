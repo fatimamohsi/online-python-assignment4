{
 "cells": [
  {
   "cell_type": "code",
   "execution_count": 1,
   "id": "6b331348",
   "metadata": {},
   "outputs": [
    {
     "name": "stdout",
     "output_type": "stream",
     "text": [
      "hi fatima\n"
     ]
    }
   ],
   "source": [
    "print(\"hi fatima\");"
   ]
  },
  {
   "cell_type": "code",
   "execution_count": 1,
   "id": "3e7d2b17",
   "metadata": {},
   "outputs": [
    {
     "name": "stdout",
     "output_type": "stream",
     "text": [
      "right male\n"
     ]
    }
   ],
   "source": [
    "gender=\"male\";\n",
    "if gender==\"male\":\n",
    "    print(\"right male\");"
   ]
  },
  {
   "cell_type": "code",
   "execution_count": 2,
   "id": "9862ea38",
   "metadata": {},
   "outputs": [
    {
     "name": "stdout",
     "output_type": "stream",
     "text": [
      "right man\n"
     ]
    }
   ],
   "source": [
    "gender=\"man\";\n",
    "if gender==\"man\":\n",
    "    print(\"right man\");"
   ]
  },
  {
   "cell_type": "code",
   "execution_count": 3,
   "id": "8f2f95cd",
   "metadata": {},
   "outputs": [
    {
     "name": "stdout",
     "output_type": "stream",
     "text": [
      "right\n"
     ]
    }
   ],
   "source": [
    "gender=\"guy\";\n",
    "if gender==\"guy\":\n",
    "    print(\"right\");"
   ]
  },
  {
   "cell_type": "code",
   "execution_count": 6,
   "id": "cec677a5",
   "metadata": {},
   "outputs": [
    {
     "ename": "SyntaxError",
     "evalue": "invalid syntax (<ipython-input-6-4e0a1eeb210e>, line 4)",
     "output_type": "error",
     "traceback": [
      "\u001b[1;36m  File \u001b[1;32m\"<ipython-input-6-4e0a1eeb210e>\"\u001b[1;36m, line \u001b[1;32m4\u001b[0m\n\u001b[1;33m    else:\u001b[0m\n\u001b[1;37m    ^\u001b[0m\n\u001b[1;31mSyntaxError\u001b[0m\u001b[1;31m:\u001b[0m invalid syntax\n"
     ]
    }
   ],
   "source": [
    "gender=\"gents\";\n",
    "if gender==\"gents\":\n",
    "    print(\"right\");\n",
    "    else:\n",
    "        print(\"wrong\");"
   ]
  },
  {
   "cell_type": "code",
   "execution_count": 4,
   "id": "1a97825e",
   "metadata": {},
   "outputs": [
    {
     "name": "stdout",
     "output_type": "stream",
     "text": [
      "[1, 2, 3, 4, 5, 6]\n"
     ]
    }
   ],
   "source": [
    "mylist=[1, 2, 3, 4, 5, 6];\n",
    "print(mylist);"
   ]
  },
  {
   "cell_type": "code",
   "execution_count": 8,
   "id": "4dc6286b",
   "metadata": {},
   "outputs": [
    {
     "ename": "SyntaxError",
     "evalue": "invalid syntax (<ipython-input-8-2278eff6daa4>, line 1)",
     "output_type": "error",
     "traceback": [
      "\u001b[1;36m  File \u001b[1;32m\"<ipython-input-8-2278eff6daa4>\"\u001b[1;36m, line \u001b[1;32m1\u001b[0m\n\u001b[1;33m    mylist=[ : ];\u001b[0m\n\u001b[1;37m             ^\u001b[0m\n\u001b[1;31mSyntaxError\u001b[0m\u001b[1;31m:\u001b[0m invalid syntax\n"
     ]
    }
   ],
   "source": [
    "mylist=[ : ];"
   ]
  },
  {
   "cell_type": "code",
   "execution_count": 14,
   "id": "306eb153",
   "metadata": {},
   "outputs": [
    {
     "ename": "SyntaxError",
     "evalue": "invalid syntax (<ipython-input-14-349526d7fdf3>, line 3)",
     "output_type": "error",
     "traceback": [
      "\u001b[1;36m  File \u001b[1;32m\"<ipython-input-14-349526d7fdf3>\"\u001b[1;36m, line \u001b[1;32m3\u001b[0m\n\u001b[1;33m    x=[2:3]\u001b[0m\n\u001b[1;37m        ^\u001b[0m\n\u001b[1;31mSyntaxError\u001b[0m\u001b[1;31m:\u001b[0m invalid syntax\n"
     ]
    }
   ],
   "source": [
    "y = [10, 11, 12, 13, 14, 15, 17, 18]\n",
    "\n",
    "x=[2:3]\n",
    "\n",
    "print(x)"
   ]
  },
  {
   "cell_type": "code",
   "execution_count": 15,
   "id": "b6b82da8",
   "metadata": {},
   "outputs": [
    {
     "name": "stdout",
     "output_type": "stream",
     "text": [
      "Enter a value22\n",
      "47\n"
     ]
    }
   ],
   "source": [
    "x=int(input(\"Enter a value\"));\n",
    "y=25;\n",
    "z=x+y;\n",
    "print(z);"
   ]
  }
 ],
 "metadata": {
  "kernelspec": {
   "display_name": "Python 3",
   "language": "python",
   "name": "python3"
  },
  "language_info": {
   "codemirror_mode": {
    "name": "ipython",
    "version": 3
   },
   "file_extension": ".py",
   "mimetype": "text/x-python",
   "name": "python",
   "nbconvert_exporter": "python",
   "pygments_lexer": "ipython3",
   "version": "3.8.8"
  }
 },
 "nbformat": 4,
 "nbformat_minor": 5
}
