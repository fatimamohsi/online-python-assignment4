{
 "cells": [
  {
   "cell_type": "code",
   "execution_count": 1,
   "id": "3be8f494",
   "metadata": {},
   "outputs": [
    {
     "name": "stdout",
     "output_type": "stream",
     "text": [
      "Hello\n",
      "world\n"
     ]
    }
   ],
   "source": [
    "print(\"Hello\\nworld\");"
   ]
  },
  {
   "cell_type": "code",
   "execution_count": 4,
   "id": "979c48ed",
   "metadata": {},
   "outputs": [
    {
     "ename": "SyntaxError",
     "evalue": "invalid syntax (<ipython-input-4-35a90f39de79>, line 7)",
     "output_type": "error",
     "traceback": [
      "\u001b[1;36m  File \u001b[1;32m\"<ipython-input-4-35a90f39de79>\"\u001b[1;36m, line \u001b[1;32m7\u001b[0m\n\u001b[1;33m    else:\u001b[0m\n\u001b[1;37m    ^\u001b[0m\n\u001b[1;31mSyntaxError\u001b[0m\u001b[1;31m:\u001b[0m invalid syntax\n"
     ]
    }
   ],
   "source": [
    "x=10;\n",
    "y=12;\n",
    "a=30;\n",
    "b=8;\n",
    "if x+y==a-b:\n",
    "    print(true);\n",
    "    else:\n",
    "        print(false);"
   ]
  },
  {
   "cell_type": "code",
   "execution_count": 13,
   "id": "acf97dbb",
   "metadata": {},
   "outputs": [
    {
     "ename": "SyntaxError",
     "evalue": "invalid syntax (<ipython-input-13-968701e41112>, line 5)",
     "output_type": "error",
     "traceback": [
      "\u001b[1;36m  File \u001b[1;32m\"<ipython-input-13-968701e41112>\"\u001b[1;36m, line \u001b[1;32m5\u001b[0m\n\u001b[1;33m    else ;\u001b[0m\n\u001b[1;37m    ^\u001b[0m\n\u001b[1;31mSyntaxError\u001b[0m\u001b[1;31m:\u001b[0m invalid syntax\n"
     ]
    }
   ],
   "source": [
    "age=int(input(\"enter age\"));\n",
    "gender=input(\"enter gender\");\n",
    "if age>18 and gender==\"male\":\n",
    "    print(\"allow\");\n",
    "    else ;\n",
    "        print(\"do not allow\");"
   ]
  },
  {
   "cell_type": "code",
   "execution_count": 15,
   "id": "8fa9a5e4",
   "metadata": {},
   "outputs": [
    {
     "name": "stdout",
     "output_type": "stream",
     "text": [
      "[112.6]\n"
     ]
    }
   ],
   "source": [
    "# learning List\n",
    "arr=[112.6];\n",
    "print(arr);"
   ]
  },
  {
   "cell_type": "code",
   "execution_count": 17,
   "id": "357f77a2",
   "metadata": {},
   "outputs": [
    {
     "name": "stdout",
     "output_type": "stream",
     "text": [
      "hi greetings\n"
     ]
    }
   ],
   "source": [
    "''''learning python now learning list now'''\n",
    "print(\"hi greetings\");"
   ]
  },
  {
   "cell_type": "code",
   "execution_count": 24,
   "id": "2e0f4d1e",
   "metadata": {},
   "outputs": [
    {
     "ename": "TypeError",
     "evalue": "bad operand type for unary +: 'str'",
     "output_type": "error",
     "traceback": [
      "\u001b[1;31m---------------------------------------------------------------------------\u001b[0m",
      "\u001b[1;31mTypeError\u001b[0m                                 Traceback (most recent call last)",
      "\u001b[1;32m<ipython-input-24-25fe690cdc81>\u001b[0m in \u001b[0;36m<module>\u001b[1;34m\u001b[0m\n\u001b[0;32m      4\u001b[0m \u001b[0mname4\u001b[0m\u001b[1;33m=\u001b[0m\u001b[1;34m\"ali\"\u001b[0m\u001b[1;33m;\u001b[0m\u001b[1;33m\u001b[0m\u001b[1;33m\u001b[0m\u001b[0m\n\u001b[0;32m      5\u001b[0m \u001b[0mname5\u001b[0m\u001b[1;33m=\u001b[0m\u001b[1;34m\"raza\"\u001b[0m\u001b[1;33m;\u001b[0m\u001b[1;33m\u001b[0m\u001b[1;33m\u001b[0m\u001b[0m\n\u001b[1;32m----> 6\u001b[1;33m \u001b[0mprint\u001b[0m\u001b[1;33m(\u001b[0m\u001b[0mname1\u001b[0m\u001b[1;33m+\u001b[0m\u001b[1;34m\" , name2+\"\u001b[0m \u001b[1;33m,\u001b[0m\u001b[1;33m+\u001b[0m\u001b[0mname3\u001b[0m\u001b[1;33m+\u001b[0m\u001b[1;34m\",+name4+\"\u001b[0m\u001b[1;33m)\u001b[0m\u001b[1;33m;\u001b[0m\u001b[1;33m\u001b[0m\u001b[1;33m\u001b[0m\u001b[0m\n\u001b[0m",
      "\u001b[1;31mTypeError\u001b[0m: bad operand type for unary +: 'str'"
     ]
    }
   ],
   "source": [
    "name1=\"fati\";\n",
    "name2=\"sana\";\n",
    "name3=\"sara\";\n",
    "name4=\"ali\";\n",
    "name5=\"raza\";\n",
    "print(name1+\" , name2+\" ,+name3+\",+name4+\");"
   ]
  },
  {
   "cell_type": "code",
   "execution_count": 25,
   "id": "f3088cd6",
   "metadata": {},
   "outputs": [
    {
     "name": "stdout",
     "output_type": "stream",
     "text": [
      "Fati,Sana,Sara,Ali,Raza,Rani\n"
     ]
    }
   ],
   "source": [
    "name1 = \"Fati\";\n",
    "name2 = \"Sana\";\n",
    "name3 = \"Sara\";\n",
    "name4 = \"Ali\";\n",
    "name5 = \"Raza\";\n",
    "name6 = \"Rani\";\n",
    "print(name1+\",\"+name2+\",\"+name3+\",\"+name4+\",\"+name5+\",\"+name6);"
   ]
  },
  {
   "cell_type": "code",
   "execution_count": 26,
   "id": "0383a3f5",
   "metadata": {},
   "outputs": [
    {
     "name": "stdout",
     "output_type": "stream",
     "text": [
      "['Fati', 'Sana', 'Sara', 'Ali', 'Raza', 'Rani']\n"
     ]
    }
   ],
   "source": [
    "#list\n",
    "name = [\"Fati\",\"Sana\",\"Sara\",\"Ali\",\"Raza\",\"Rani\"];\n",
    "print(name);\n"
   ]
  },
  {
   "cell_type": "code",
   "execution_count": 27,
   "id": "d9c146e9",
   "metadata": {},
   "outputs": [
    {
     "name": "stdout",
     "output_type": "stream",
     "text": [
      "Fati\n"
     ]
    }
   ],
   "source": [
    "print(name[0]);"
   ]
  },
  {
   "cell_type": "code",
   "execution_count": 28,
   "id": "6eafb662",
   "metadata": {},
   "outputs": [
    {
     "name": "stdout",
     "output_type": "stream",
     "text": [
      "['Fati', 'Ali', 'Sara', 'Ali', 'Raza', 'Rani']\n"
     ]
    }
   ],
   "source": [
    "name[1]=\"Ali\";\n",
    "print(name);"
   ]
  },
  {
   "cell_type": "code",
   "execution_count": 29,
   "id": "c50be6d9",
   "metadata": {},
   "outputs": [
    {
     "name": "stdout",
     "output_type": "stream",
     "text": [
      "['Fati', 'Ali', 'Sara', 'Ali', 'Raza', 'Rani', 'Hiba']\n"
     ]
    }
   ],
   "source": [
    "name.append(\"Hiba\");\n",
    "print(name);"
   ]
  },
  {
   "cell_type": "code",
   "execution_count": 30,
   "id": "3db1d885",
   "metadata": {},
   "outputs": [
    {
     "name": "stdout",
     "output_type": "stream",
     "text": [
      "['lion', 12, True, 5.69]\n"
     ]
    }
   ],
   "source": [
    "arr = [\"lion\", 12, True, 5.69 ];\n",
    "print(arr);"
   ]
  },
  {
   "cell_type": "code",
   "execution_count": 31,
   "id": "ad5a8b03",
   "metadata": {},
   "outputs": [
    {
     "data": {
      "text/plain": [
       "['Fati', 'Ali', 'Sara', 'Ali', 'Raza', 'Rani', 'Hiba']"
      ]
     },
     "execution_count": 31,
     "metadata": {},
     "output_type": "execute_result"
    }
   ],
   "source": [
    "name\n"
   ]
  },
  {
   "cell_type": "code",
   "execution_count": 32,
   "id": "ca203873",
   "metadata": {},
   "outputs": [
    {
     "name": "stdout",
     "output_type": "stream",
     "text": [
      "['Fati', 'Ali', 'Sara', 'Ali', 'Raza', 'Rani', 'Hiba', 'lion', 12, True, 5.69]\n"
     ]
    }
   ],
   "source": [
    "newList = name + arr;\n",
    "print(newList);"
   ]
  },
  {
   "cell_type": "code",
   "execution_count": 34,
   "id": "af29e38f",
   "metadata": {},
   "outputs": [
    {
     "name": "stdout",
     "output_type": "stream",
     "text": [
      "None\n"
     ]
    }
   ],
   "source": [
    "name = name.insert(3,\"Rabia\");\n",
    "print(name);"
   ]
  },
  {
   "cell_type": "raw",
   "id": "89422e4a",
   "metadata": {},
   "source": []
  },
  {
   "cell_type": "raw",
   "id": "70b7ca50",
   "metadata": {},
   "source": []
  },
  {
   "cell_type": "code",
   "execution_count": 35,
   "id": "a5f7f272",
   "metadata": {},
   "outputs": [
    {
     "name": "stdout",
     "output_type": "stream",
     "text": [
      "['lion', 12, 'Saba', True, 5.69]\n"
     ]
    }
   ],
   "source": [
    "arr.insert(2, \"Saba\");\n",
    "print(arr);"
   ]
  },
  {
   "cell_type": "code",
   "execution_count": 36,
   "id": "a5df9da5",
   "metadata": {},
   "outputs": [
    {
     "name": "stdout",
     "output_type": "stream",
     "text": [
      "['Saba', True]\n"
     ]
    }
   ],
   "source": [
    "arr2 = arr[2:4];\n",
    "print(arr2);"
   ]
  },
  {
   "cell_type": "code",
   "execution_count": 37,
   "id": "eea7976a",
   "metadata": {},
   "outputs": [
    {
     "data": {
      "text/plain": [
       "['lion', 12, 'Saba', True, 5.69]"
      ]
     },
     "execution_count": 37,
     "metadata": {},
     "output_type": "execute_result"
    }
   ],
   "source": [
    "arr"
   ]
  },
  {
   "cell_type": "code",
   "execution_count": 38,
   "id": "50f2d838",
   "metadata": {},
   "outputs": [
    {
     "data": {
      "text/plain": [
       "['Saba', True]"
      ]
     },
     "execution_count": 38,
     "metadata": {},
     "output_type": "execute_result"
    }
   ],
   "source": [
    "arr2"
   ]
  },
  {
   "cell_type": "code",
   "execution_count": 39,
   "id": "1b12ea87",
   "metadata": {},
   "outputs": [
    {
     "name": "stdout",
     "output_type": "stream",
     "text": [
      "['Saba', True, 5.69]\n"
     ]
    }
   ],
   "source": [
    "arr3 = arr[2:5];\n",
    "print(arr3);"
   ]
  },
  {
   "cell_type": "code",
   "execution_count": 40,
   "id": "94e9ac0c",
   "metadata": {},
   "outputs": [
    {
     "name": "stdout",
     "output_type": "stream",
     "text": [
      "['lion', 12, 'Saba']\n"
     ]
    }
   ],
   "source": [
    "arr4 = arr[:3];\n",
    "print(arr4);"
   ]
  },
  {
   "cell_type": "code",
   "execution_count": 41,
   "id": "effd366a",
   "metadata": {},
   "outputs": [
    {
     "name": "stdout",
     "output_type": "stream",
     "text": [
      "['lion', 12, True, 5.69]\n"
     ]
    }
   ],
   "source": [
    "del arr[2];\n",
    "print(arr);"
   ]
  },
  {
   "cell_type": "code",
   "execution_count": 42,
   "id": "7ac1afc5",
   "metadata": {},
   "outputs": [
    {
     "name": "stdout",
     "output_type": "stream",
     "text": [
      "['lion', True, 5.69]\n"
     ]
    }
   ],
   "source": [
    "arr.remove(12);\n",
    "print(arr);"
   ]
  },
  {
   "cell_type": "code",
   "execution_count": 43,
   "id": "bb57e6aa",
   "metadata": {},
   "outputs": [
    {
     "name": "stdout",
     "output_type": "stream",
     "text": [
      "['lion', True]\n"
     ]
    }
   ],
   "source": [
    "arr.pop();\n",
    "print(arr);"
   ]
  },
  {
   "cell_type": "code",
   "execution_count": null,
   "id": "126839ef",
   "metadata": {},
   "outputs": [],
   "source": []
  }
 ],
 "metadata": {
  "kernelspec": {
   "display_name": "Python 3",
   "language": "python",
   "name": "python3"
  },
  "language_info": {
   "codemirror_mode": {
    "name": "ipython",
    "version": 3
   },
   "file_extension": ".py",
   "mimetype": "text/x-python",
   "name": "python",
   "nbconvert_exporter": "python",
   "pygments_lexer": "ipython3",
   "version": "3.8.8"
  }
 },
 "nbformat": 4,
 "nbformat_minor": 5
}
