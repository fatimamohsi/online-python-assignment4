{
 "cells": [
  {
   "cell_type": "code",
   "execution_count": 4,
   "id": "10ab6e6d",
   "metadata": {},
   "outputs": [
    {
     "name": "stdout",
     "output_type": "stream",
     "text": [
      "Twinkle, twinkle, little star,\n",
      "         How I wonder what you are!\n",
      "                 Up above the world so high,\n",
      "                 Like a diamond in the sky.\n",
      "Twinkle, twinkle, little star,\n",
      "         How I wonder what you are\n"
     ]
    }
   ],
   "source": [
    "#---------------------------------------------- JAWAN PAKISTAN -----------------------------------------------------------\n",
    "#---------------------------------------------- DATA SCIENCE COURSE ------------------------------------------------------\n",
    "#--------------------------------------------   ASSIGNMENT    NO:01     -------------------------------------------------\n",
    "# 1. Write a Python program to print the following string in a specific format (see the output.)\n",
    "print(\"Twinkle, twinkle, little star,\");\n",
    "print(\"         How I wonder what you are!\");\n",
    "print(\"                 Up above the world so high,\");\n",
    "print(\"                 Like a diamond in the sky.\");\n",
    "print(\"Twinkle, twinkle, little star,\");\n",
    "print(\"         How I wonder what you are\");"
   ]
  },
  {
   "cell_type": "code",
   "execution_count": 5,
   "id": "c17997a2",
   "metadata": {},
   "outputs": [
    {
     "name": "stdout",
     "output_type": "stream",
     "text": [
      "3.8.8\n"
     ]
    }
   ],
   "source": [
    "# 2. Write a Python program to get the Python version you are using.\n",
    "from platform import python_version ;\n",
    "print(python_version());"
   ]
  },
  {
   "cell_type": "code",
   "execution_count": 6,
   "id": "031e2691",
   "metadata": {},
   "outputs": [
    {
     "name": "stdout",
     "output_type": "stream",
     "text": [
      "2021-12-30 15:56:36.868305\n"
     ]
    }
   ],
   "source": [
    "# 3. Write a Python program to display the current date and time.\n",
    "import datetime;\n",
    "today=datetime.datetime.today();\n",
    "print(today);"
   ]
  },
  {
   "cell_type": "code",
   "execution_count": 7,
   "id": "283b5798",
   "metadata": {},
   "outputs": [
    {
     "name": "stdout",
     "output_type": "stream",
     "text": [
      "Enter the Radius of the Circle:17\n",
      "Area of the Circle is: 907.9202768874503\n"
     ]
    }
   ],
   "source": [
    "# 4. Write a Python program which accepts the radius of a circle from the user and compute the area.\n",
    "import math;\n",
    "radius = float(input(\"Enter the Radius of the Circle:\"));\n",
    "area = math.pi * radius * radius;\n",
    "print(\"Area of the Circle is: {0}\". format(area));"
   ]
  },
  {
   "cell_type": "code",
   "execution_count": 8,
   "id": "15868e09",
   "metadata": {},
   "outputs": [
    {
     "name": "stdout",
     "output_type": "stream",
     "text": [
      "Enter your first name :HAFIZA FATIMA\n",
      "Enter your last name :MOHSIN BADAR\n",
      "MOHSIN BADAR HAFIZA FATIMA\n"
     ]
    }
   ],
   "source": [
    "# 5. Write a Python program which accepts the user's first and last name \n",
    "#and print them in reverse order with a space between them.\n",
    "firstname = input(\"Enter your first name :\");\n",
    "lastname = input(\"Enter your last name :\");\n",
    "print (lastname + \" \" + firstname);"
   ]
  },
  {
   "cell_type": "code",
   "execution_count": 13,
   "id": "2e796662",
   "metadata": {},
   "outputs": [
    {
     "name": "stdout",
     "output_type": "stream",
     "text": [
      "Enter the 1st no :12\n",
      "Enter the 2nd no :88\n",
      "THE SUM OF TWO REQUIRED NUMBERS ARE:100\n"
     ]
    }
   ],
   "source": [
    "# 6. Write a python program which takes two inputs from user and print them addition.\n",
    "x = int(input(\"Enter the 1st no :\"));\n",
    "y = int(input(\"Enter the 2nd no :\"));\n",
    "print((\"THE SUM OF TWO REQUIRED NUMBERS ARE:\")+ \"\" +str(x + y));"
   ]
  },
  {
   "cell_type": "code",
   "execution_count": 14,
   "id": "8db969b4",
   "metadata": {},
   "outputs": [
    {
     "name": "stdout",
     "output_type": "stream",
     "text": [
      "Assignment 1 of data science is done\n"
     ]
    }
   ],
   "source": [
    "print(\"Assignment 1 of data science is done\")"
   ]
  },
  {
   "cell_type": "code",
   "execution_count": null,
   "id": "861e837a",
   "metadata": {},
   "outputs": [],
   "source": []
  }
 ],
 "metadata": {
  "kernelspec": {
   "display_name": "Python 3",
   "language": "python",
   "name": "python3"
  },
  "language_info": {
   "codemirror_mode": {
    "name": "ipython",
    "version": 3
   },
   "file_extension": ".py",
   "mimetype": "text/x-python",
   "name": "python",
   "nbconvert_exporter": "python",
   "pygments_lexer": "ipython3",
   "version": "3.8.8"
  }
 },
 "nbformat": 4,
 "nbformat_minor": 5
}
